{
 "cells": [
  {
   "cell_type": "markdown",
   "metadata": {},
   "source": [
    "start->setup->guess->loop\n",
    "\n",
    "bounds = 1 to 20\n",
    "graph has to keep guessing(max = 7) where if the guess is correct, then it stops, but if not keep till 7\n",
    "\n",
    "should say high or lower each time \n",
    "\n",
    "\n",
    "input: (\"player_name\": \"name\", \"guesses\":[], \"attempts\":0, \"lower_bounding\":1, \"upper_bounding\":20)"
   ]
  },
  {
   "cell_type": "code",
   "execution_count": 91,
   "metadata": {},
   "outputs": [],
   "source": [
    "from typing import TypedDict, Dict, List\n",
    "import random\n",
    "from langgraph.graph import StateGraph, END"
   ]
  },
  {
   "cell_type": "code",
   "execution_count": 92,
   "metadata": {},
   "outputs": [],
   "source": [
    "class AgentState(TypedDict):\n",
    "    name: str\n",
    "    target: int\n",
    "    guesses: List[int]\n",
    "    counter: int\n",
    "    lower_bound: int\n",
    "    upper_bound: int\n",
    "    hint: str"
   ]
  },
  {
   "cell_type": "code",
   "execution_count": 93,
   "metadata": {},
   "outputs": [],
   "source": [
    "def setup_node(state: AgentState) -> AgentState:\n",
    "    state[\"name\"] = f\"Hi {state['name']} WELCOME to the Game \"\n",
    "    state[\"target\"] = random.randint(1,20)\n",
    "    state[\"guesses\"] = []\n",
    "    state[\"counter\"] = 0\n",
    "    state[\"hint\"] =\"Game started. Try to guess a number\"\n",
    "    state[\"lower_bound\"]=1\n",
    "    state[\"upper_bound\"] = 20\n",
    "\n",
    "    return state\n",
    "\n",
    "def guess_node(state: AgentState)-> AgentState:\n",
    "    \"\"\"Generate a random number from 1 to 20 best on previous hints\"\"\"\n",
    "    guesses_list = []\n",
    "    for i in range(state[\"lower_bound\"], state[\"upper_bound\"]+1):\n",
    "        if i not in state[\"guesses\"]:\n",
    "            guesses_list.append(i)\n",
    "\n",
    "\n",
    "    if guesses_list:\n",
    "        guess= random.choice(guesses_list)\n",
    "    else:\n",
    "        guess =random.randint(state[\"lower_bound\"], state[\"upper_bound\"])\n",
    "\n",
    "    state[\"guesses\"].append(guess)    \n",
    "    state[\"counter\"] +=1\n",
    "    print(f\"Attempt {state['counter']}: {guess}\")\n",
    "    return state\n",
    "\n"
   ]
  },
  {
   "cell_type": "code",
   "execution_count": 113,
   "metadata": {},
   "outputs": [],
   "source": [
    "def hint_node(state: AgentState)-> AgentState:\n",
    "\n",
    "    guesses_list=state[\"guesses\"][-1]\n",
    "    guessed = state[\"target\"]\n",
    "    if guesses_list < guessed:\n",
    "        state[\"hint\"] = f\"{guesses_list} is low\"\n",
    "        state[\"lower_bound\"] = max(state[\"lower_bound\"], guesses_list+1)\n",
    "        print(f\"hint : {state['hint']}\")\n",
    "    elif guesses_list > guessed:\n",
    "        state[\"hint\"] = f\"{guessed} is high\"\n",
    "        state[\"lower_bound\"] = max(state[\"lower_bound\"], guesses_list-1)\n",
    "        print(f\"hint : {state['hint']}\")\n",
    "\n",
    "\n",
    "    else:\n",
    "        state[\"hint\"] = f\"You guessed it right in {state['counter']} guesses\"\n",
    "        print(f\"guessed it state['hint']\")\n",
    "\n",
    "    return state\n",
    "\n",
    "\n",
    "\n",
    "\n",
    "\n",
    "\n",
    "    "
   ]
  },
  {
   "cell_type": "code",
   "execution_count": 114,
   "metadata": {},
   "outputs": [],
   "source": [
    "def should_continue(state: AgentState) -> AgentState:\n",
    "    \"Function to decide what to do next\"\n",
    "\n",
    "    guesses_list = state[\"guesses\"][-1]\n",
    "\n",
    "    if guesses_list == state[\"target\"]:\n",
    "        \n",
    "        print(f\"You Won! Guessed it right in {state['counter']} guesses\")\n",
    "        return \"end\"\n",
    "    elif state[\"counter\"] >= 7:\n",
    "        print(f\"You have zero chances left, Correct answer was {state['target']}\")\n",
    "        return \"end\"\n",
    "    else:\n",
    "        print(f\"continuing with the game {state['counter']}/7 attempts used \")\n",
    "        return \"loop\""
   ]
  },
  {
   "cell_type": "code",
   "execution_count": 115,
   "metadata": {},
   "outputs": [],
   "source": [
    "graph = StateGraph(AgentState)\n",
    "\n",
    "graph.add_node(\"setup\", setup_node)\n",
    "graph.add_node(\"guess\", guess_node)\n",
    "graph.add_node(\"hint_node\", hint_node)\n",
    "\n",
    "graph.add_edge(\"setup\", \"guess\")\n",
    "graph.add_edge(\"guess\", \"hint_node\")\n",
    "\n",
    "graph.add_conditional_edges(\n",
    "    \"hint_node\",      #here source node\n",
    "    should_continue, #action\n",
    "    {\n",
    "        \"loop\": \"guess\",   #looping here\n",
    "       \"end\": END \n",
    "    }\n",
    ")\n",
    "\n",
    "graph.set_entry_point(\"setup\")\n",
    "\n",
    "app = graph.compile()"
   ]
  },
  {
   "cell_type": "code",
   "execution_count": 116,
   "metadata": {},
   "outputs": [
    {
     "data": {
      "image/png": "[encoded data removed]",
      "text/plain": [
       "<IPython.core.display.Image object>"
      ]
     },
     "metadata": {},
     "output_type": "display_data"
    }
   ],
   "source": [
    "from IPython.display import Image, display\n",
    "display(Image(app.get_graph().draw_mermaid_png()))"
   ]
  },
  {
   "cell_type": "code",
   "execution_count": 119,
   "metadata": {},
   "outputs": [
    {
     "name": "stdout",
     "output_type": "stream",
     "text": [
      "Attempt 1: 13\n",
      "hint : 9 is high\n",
      "continuing with the game 1/7 attempts used \n",
      "Attempt 2: 18\n",
      "hint : 9 is high\n",
      "continuing with the game 2/7 attempts used \n",
      "Attempt 3: 17\n",
      "hint : 9 is high\n",
      "continuing with the game 3/7 attempts used \n",
      "Attempt 4: 19\n",
      "hint : 9 is high\n",
      "continuing with the game 4/7 attempts used \n",
      "Attempt 5: 20\n",
      "hint : 9 is high\n",
      "continuing with the game 5/7 attempts used \n",
      "Attempt 6: 20\n",
      "hint : 9 is high\n",
      "continuing with the game 6/7 attempts used \n",
      "Attempt 7: 19\n",
      "hint : 9 is high\n",
      "You have zero chances left, Correct answer was 9\n"
     ]
    },
    {
     "data": {
      "text/plain": [
       "{'name': 'Hi Alice WELCOME to the Game ',\n",
       " 'target': 9,\n",
       " 'guesses': [13, 18, 17, 19, 20, 20, 19],\n",
       " 'counter': 7,\n",
       " 'lower_bound': 19,\n",
       " 'upper_bound': 20,\n",
       " 'hint': '9 is high'}"
      ]
     },
     "execution_count": 119,
     "metadata": {},
     "output_type": "execute_result"
    }
   ],
   "source": [
    "app.invoke({\"name\": \"Alice\", \"guesses\":[], \"counter\" : 0, \"target\": 0, \"lower_bound\": 1, \"upper_bound\": 20, \"hint\": \"\"})"
   ]
  },
  {
   "cell_type": "code",
   "execution_count": null,
   "metadata": {},
   "outputs": [],
   "source": []
  }
 ],
 "metadata": {
  "kernelspec": {
   "display_name": "Python 3",
   "language": "python",
   "name": "python3"
  },
  "language_info": {
   "codemirror_mode": {
    "name": "ipython",
    "version": 3
   },
   "file_extension": ".py",
   "mimetype": "text/x-python",
   "name": "python",
   "nbconvert_exporter": "python",
   "pygments_lexer": "ipython3",
   "version": "3.11.9"
  },
  "orig_nbformat": 4
 },
 "nbformat": 4,
 "nbformat_minor": 2
}
