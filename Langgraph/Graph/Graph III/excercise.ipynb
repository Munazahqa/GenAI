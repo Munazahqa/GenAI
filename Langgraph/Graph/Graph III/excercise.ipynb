{
 "cells": [
  {
   "cell_type": "markdown",
   "metadata": {},
   "source": [
    "#Task:\n",
    "1. Accept a user's name, age, and a list of their skills\n",
    "2. pass the state through three nodes that:\n",
    "    . first node: name with greeting\n",
    "    . second node: describes the user's age\n",
    "    . third node:lists the user's skills in formatted string\n",
    "\n",
    "3. the final output in the result field should be a combined message in this format:\n",
    "\n",
    "\n",
    "output: \"alice, welcome to the system.you are 31 years old. you have skills in python, ml, and langgraph.\""
   ]
  },
  {
   "cell_type": "code",
   "execution_count": 19,
   "metadata": {},
   "outputs": [],
   "source": [
    "from typing import TypedDict\n",
    "from langgraph.graph import StateGraph  #framework the helps you design and manage the flow of the tasks in app using graph"
   ]
  },
  {
   "cell_type": "code",
   "execution_count": 28,
   "metadata": {},
   "outputs": [],
   "source": [
    "#shared data structure that keep track of the information in app\n",
    "class AgentState(TypedDict): #state schema \n",
    "    name : str\n",
    "    age : str\n",
    "    skill: str\n",
    "    final: str\n",
    "\n"
   ]
  },
  {
   "cell_type": "code",
   "execution_count": 33,
   "metadata": {},
   "outputs": [],
   "source": [
    "def first_node(state: AgentState) -> AgentState:\n",
    "    \"\"\"This is the 1st node of sequence\"\"\"\n",
    "    state[\"final\"] = f\"{state['name']}, Welcome to the system. \"\n",
    "    return state\n",
    "\n",
    "# 3. Second node\n",
    "def second_node(state: AgentState) -> AgentState:\n",
    "    \"\"\"This is the 2nd node of sequence\"\"\"\n",
    "    state[\"final\"] = state[\"final\"] + f\" you are {state['age']} years old.\"\n",
    "    return state\n",
    "\n",
    "\n",
    "def skill_node(state: AgentState) -> AgentState:\n",
    "    \"\"\"This is the 2nd node of sequence\"\"\"\n",
    "    state[\"final\"] = state[\"final\"] + f\" you have skills in: {state['skill']}\"\n",
    "    return state\n"
   ]
  },
  {
   "cell_type": "code",
   "execution_count": 34,
   "metadata": {},
   "outputs": [],
   "source": [
    "graph = StateGraph(AgentState)\n",
    "graph.add_node(\"first_node\", first_node)\n",
    "graph.add_node(\"second_node\", second_node)\n",
    "graph.add_node(\"skill_node\", skill_node)\n",
    "graph.set_entry_point(\"first_node\")\n",
    "graph.add_edge(\"first_node\", \"second_node\")\n",
    "graph.add_edge(\"second_node\", \"skill_node\")\n",
    "graph.set_finish_point(\"second_node\")\n",
    "\n",
    "app = graph.compile()"
   ]
  },
  {
   "cell_type": "code",
   "execution_count": 35,
   "metadata": {},
   "outputs": [
    {
     "data": {
      "image/png": "[encoded data removed]",
      "text/plain": [
       "<IPython.core.display.Image object>"
      ]
     },
     "metadata": {},
     "output_type": "display_data"
    }
   ],
   "source": [
    "from IPython.display import Image, display\n",
    "display(Image(app.get_graph().draw_mermaid_png()))"
   ]
  },
  {
   "cell_type": "code",
   "execution_count": 36,
   "metadata": {},
   "outputs": [
    {
     "name": "stdout",
     "output_type": "stream",
     "text": [
      "Bob, Welcome to the system.  you are 20 years old. you have skills in: Python, ml, langgraph\n"
     ]
    }
   ],
   "source": [
    "ans = app.invoke({\"name\" : \"Bob\", \"age\": \"20\", \"skill\": \"Python, ml, langgraph\"})\n",
    "print(ans[\"final\"])"
   ]
  },
  {
   "cell_type": "code",
   "execution_count": null,
   "metadata": {},
   "outputs": [],
   "source": []
  },
  {
   "cell_type": "code",
   "execution_count": null,
   "metadata": {},
   "outputs": [],
   "source": []
  },
  {
   "cell_type": "code",
   "execution_count": null,
   "metadata": {},
   "outputs": [],
   "source": []
  }
 ],
 "metadata": {
  "kernelspec": {
   "display_name": "Python 3",
   "language": "python",
   "name": "python3"
  },
  "language_info": {
   "codemirror_mode": {
    "name": "ipython",
    "version": 3
   },
   "file_extension": ".py",
   "mimetype": "text/x-python",
   "name": "python",
   "nbconvert_exporter": "python",
   "pygments_lexer": "ipython3",
   "version": "3.11.2"
  },
  "orig_nbformat": 4
 },
 "nbformat": 4,
 "nbformat_minor": 2
}
